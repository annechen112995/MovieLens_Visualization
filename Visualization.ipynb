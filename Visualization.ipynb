{
 "cells": [
  {
   "cell_type": "code",
   "execution_count": 13,
   "metadata": {},
   "outputs": [],
   "source": [
    "import csv\n",
    "import numpy as np\n",
    "import matrixFactorization as mf\n",
    "import biasMatrixFactorization as bmf\n",
    "import matplotlib.pyplot as plt\n",
    "from scipy.sparse.linalg import svds\n",
    "from basicVisualization import getPopularMovies, getBestMovies, getThreeGenres, basicVisualization\n",
    "from projection import projection\n",
    "from surprise import NMF, Dataset, Reader\n",
    "from surprise.model_selection import cross_validate\n",
    "\n",
    "BORDER = \"===================================================================\"\n"
   ]
  },
  {
   "cell_type": "code",
   "execution_count": 16,
   "metadata": {
    "collapsed": true
   },
   "outputs": [],
   "source": [
    "\n",
    "def loadRatings(fileName):\n",
    "    '''\n",
    "    Load data from the data.txt file\n",
    "\n",
    "    Input format: user_id\\tmovie_id\\trating\n",
    "\n",
    "    user_id = int\n",
    "    movie_id = int\n",
    "    rating = int\n",
    "    '''\n",
    "    ratings = []\n",
    "    f = open(fileName, 'r')\n",
    "\n",
    "    for line in f:\n",
    "        ratings.append(line.split())\n",
    "\n",
    "    return np.asarray(ratings, dtype=int)\n",
    "\n",
    "\n",
    "def loadMovies(fileName):\n",
    "    '''\n",
    "    Load data from the movies.txt file\n",
    "\n",
    "    Input format: movie_id\\tmovie_title\\tUnknown\\tAction\\tAdventure\\tAnimation\n",
    "    \\tChildrens\\tComedy\\tCrime\\tDocumentary\\tDrama\\tFantasy\\tFilm-Noir\\tHorror\n",
    "    \\tMusical\\tMystery\\tRomance\\tSci-Fi\\tThriller\\tWar\\tWestern\n",
    "\n",
    "    movie_id = int\n",
    "    movie_title = string\n",
    "    {Unknown, Action,..., Western} = bool (0 or 1)\n",
    "\n",
    "    returns three dictionaries\n",
    "    movie_ID = {movie_id:movie_title}\n",
    "    movie_categoty = {movie_id:categories}\n",
    "        where categories is a numpy array of 0 or 1 representing if the\n",
    "        movie falls under the category\n",
    "    movie_genres = {index of genre: genre name}\n",
    "    '''\n",
    "    movie_ID = {}\n",
    "    movie_category = {}\n",
    "\n",
    "    movie_genres = {\n",
    "        0:  'Unknown',   1:  'Action',  2:  'Adventure', 3: 'Animation',\n",
    "        4:  'Childrens', 5:  'Comedy',  6:  'Crime',     7: 'Documentary',\n",
    "        8:  'Drama',     9:  'Fantasy', 10: 'Film-Noir', 11: 'Horror',\n",
    "        12: 'Musical',   13: 'Mystery', 14: 'Romance',   15: 'Sci-Fi',\n",
    "        16: 'Thriller',  17: 'War',     18: 'Western'}\n",
    "\n",
    "    with open(fileName, encoding='ISO-8859-1') as f:\n",
    "        reader = csv.reader(f, delimiter='\\t')\n",
    "        for movieData in reader:\n",
    "            # print(movieData)\n",
    "            movie_ID[int(movieData[0])] = movieData[1]\n",
    "            categories = [int(x) for x in movieData[2:]]\n",
    "            movie_category[int(movieData[0])] = np.asarray(categories)\n",
    "\n",
    "    return movie_ID, movie_category, movie_genres\n",
    "\n",
    "\n",
    "def Homework_5_SVD_With_Regularization(train, test):\n",
    "    print(BORDER)\n",
    "    print(\"Homework_5_SVD_With_Regularization - reg\")\n",
    "    M = max(max(train[:, 0]), max(test[:, 0])).astype(int)  # users\n",
    "    N = max(max(train[:, 1]), max(test[:, 1])).astype(int)  # movies\n",
    "    print(\"Factorizing with \", M, \" users, \", N, \" movies.\")\n",
    "    K = 20\n",
    "\n",
    "    regs = [10**-4, 10**-3, 10**-2, 10**-1, 1]\n",
    "    eta = 0.03  # learning rate\n",
    "    E_ins = []\n",
    "    E_outs = []\n",
    "\n",
    "    for reg in regs:\n",
    "        print(\"Training model with reg = %s\" % (reg))\n",
    "        U, V, _ = mf.train_model(M, N, K, eta, reg, train)\n",
    "        E_ins.append(mf.get_err(U, V, train))\n",
    "        E_outs.append(mf.get_err(U, V, test))\n",
    "\n",
    "    plt.plot(regs, E_ins, label='$E_{in}$')\n",
    "    plt.plot(regs, E_outs, label='$E_{out}$')\n",
    "    plt.title('Error vs. reg')\n",
    "    plt.xlabel('reg')\n",
    "    plt.ylabel('Error')\n",
    "    plt.xscale('log')\n",
    "    plt.legend()\n",
    "    plt.savefig('visualizations/method1_reg.png')\n",
    "    plt.clf()\n",
    "\n",
    "\n",
    "def Homework_5_SVD(train, test):\n",
    "    print(BORDER)\n",
    "    print(\"Homework_5_SVD\")\n",
    "    M = max(max(train[:, 0]), max(test[:, 0])).astype(int)  # users\n",
    "    N = max(max(train[:, 1]), max(test[:, 1])).astype(int)  # movies\n",
    "    print(\"Factorizing with \", M, \" users, \", N, \" movies.\")\n",
    "    K = 20\n",
    "\n",
    "    reg = 10**-1\n",
    "    eta = 0.03  # learning rate\n",
    "    U, V, _ = mf.train_model(M, N, K, eta, reg, train)\n",
    "    E_in = mf.get_err(U, V, train)\n",
    "    E_out = mf.get_err(U, V, test)\n",
    "    print(\"E_in = \", E_in)\n",
    "    print(\"E_out = \", E_out)\n",
    "\n",
    "    return U, V\n",
    "\n",
    "\n",
    "def SVD_With_Bias(train, test):\n",
    "    print(BORDER)\n",
    "    print(\"SVD_With_Bias\")\n",
    "    M = max(max(train[:, 0]), max(test[:, 0])).astype(int)  # users\n",
    "    N = max(max(train[:, 1]), max(test[:, 1])).astype(int)  # movies\n",
    "    print(\"Factorizing with \", M, \" users, \", N, \" movies.\")\n",
    "    K = 20\n",
    "\n",
    "    reg = 10**-1\n",
    "    eta = 0.03  # learning rate\n",
    "    U, V, err, a, b, mu = bmf.train_model(M, N, K, eta, reg, train)\n",
    "    E_in = bmf.get_err(U, V, train, a, b, mu, reg)\n",
    "    E_out = bmf.get_err(U, V, test, a, b, mu, reg)\n",
    "    print(\"E_in = \", E_in)\n",
    "    print(\"E_out = \", E_out)\n",
    "\n",
    "    return U, V\n",
    "\n",
    "\n",
    "def Get_Err_From_Pred(pred, ratings):\n",
    "    n_rows = ratings.shape[0]\n",
    "    error = 0\n",
    "\n",
    "    for row in range(n_rows):\n",
    "        user_ind = ratings[row, 0] - 1\n",
    "        movie_ind = ratings[row, 1] - 1\n",
    "        rating = ratings[row, 2]\n",
    "        dev = rating - pred[user_ind, movie_ind]\n",
    "        error += dev * dev\n",
    "    return ((1 / 2.) * error) / n_rows\n",
    "\n",
    "\n",
    "def Off_The_Shelf_SVD_Cross_Valid(dataFile):\n",
    "    print(BORDER)\n",
    "    print(\"Off_The_Shelf_SVD\")\n",
    "    \n",
    "    reader = Reader(line_format='user item rating', sep='\\t')\n",
    "    dataset = Dataset.load_from_file(dataFile, reader=reader)\n",
    "\n",
    "    #dataset = dataset.build_full_trainset()\n",
    "    algo = NMF()\n",
    "    cross_validate(algo, dataset, measures=['RMSE', 'MAE'], cv=5, verbose=True)\n",
    "    \n",
    "    \n",
    "def Off_The_Shelf_SVD(train, test, dataFile):\n",
    "    print(BORDER)\n",
    "    print(\"Off_The_Shelf_SVD\")\n",
    "    \n",
    "    reader = Reader(line_format='user item rating', sep='\\t')\n",
    "    dataset = Dataset.load_from_file(dataFile, reader=reader)\n",
    "\n",
    "    dataset = dataset.build_full_trainset()\n",
    "    algo = NMF()\n",
    "    algo.fit(dataset)\n",
    "    U = algo.pu\n",
    "    V = algo.qi\n",
    "    bu = algo.bu\n",
    "    bv = algo.bi\n",
    "    #pred = np.matrix(np.dot(U, V.T)) + np.matrix(bu).T + np.matrix(bv)\n",
    "    #E_in = Get_Err_From_Pred(pred, train)\n",
    "    #E_out = Get_Err_From_Pred(pred, test)\n",
    "    #print(\"E_in = \", E_in)\n",
    "    #print(\"E_out = \", E_out)\n",
    "    \n",
    "    return U, V\n"
   ]
  },
  {
   "cell_type": "code",
   "execution_count": 3,
   "metadata": {
    "collapsed": true
   },
   "outputs": [],
   "source": [
    "directory = 'visualizations/'\n",
    "dataFile = \"data/data.txt\"\n",
    "moviesFile = \"data/movies.txt\"\n",
    "trainingFile = \"data/train.txt\"\n",
    "testFile = \"data/test.txt\"\n",
    "\n",
    "# all movie ratings as movie_ratings = [[user ID, movie ID, rating]]\n",
    "movie_ratings = loadRatings(dataFile)\n",
    "# movie info as three dictionaries:\n",
    "#     movie_ID = {movie_id:movie_title}\n",
    "#     movie_category = {movie_id:categories}\n",
    "#     movie_genres = {index of genre: genre name}\n",
    "movie_ID, movie_category, movie_genres = loadMovies(moviesFile)\n",
    "\n",
    "train = loadRatings(trainingFile)\n",
    "test  = loadRatings(testFile)\n"
   ]
  },
  {
   "cell_type": "code",
   "execution_count": null,
   "metadata": {
    "collapsed": true
   },
   "outputs": [],
   "source": [
    "basicVisualization(movie_ratings, movie_ID, movie_category, movie_genres,\n",
    "                   directory)"
   ]
  },
  {
   "cell_type": "code",
   "execution_count": null,
   "metadata": {
    "collapsed": true
   },
   "outputs": [],
   "source": [
    "Homework_5_SVD_With_Regularization(train, test)"
   ]
  },
  {
   "cell_type": "code",
   "execution_count": 17,
   "metadata": {},
   "outputs": [
    {
     "name": "stdout",
     "output_type": "stream",
     "text": [
      "===================================================================\n",
      "Off_The_Shelf_SVD\n",
      "Evaluating RMSE, MAE of algorithm NMF on 5 split(s).\n",
      "\n",
      "                  Fold 1  Fold 2  Fold 3  Fold 4  Fold 5  Mean    Std     \n",
      "RMSE (testset)    0.9685  0.9666  0.9588  0.9652  0.9601  0.9638  0.0038  \n",
      "MAE (testset)     0.7598  0.7592  0.7582  0.7554  0.7522  0.7569  0.0028  \n",
      "Fit time          9.08    9.26    9.25    9.18    5.56    8.47    1.45    \n",
      "Test time         0.23    0.23    0.17    0.21    0.21    0.21    0.02    \n"
     ]
    }
   ],
   "source": [
    "Off_The_Shelf_SVD_Cross_Valid(dataFile)"
   ]
  },
  {
   "cell_type": "code",
   "execution_count": null,
   "metadata": {
    "collapsed": true
   },
   "outputs": [],
   "source": [
    "U, V = Homework_5_SVD(train, test)\n",
    "U_proj, V_proj = projection(U, V)\n",
    "\n"
   ]
  },
  {
   "cell_type": "code",
   "execution_count": null,
   "metadata": {
    "collapsed": true
   },
   "outputs": [],
   "source": [
    "def PlotMovies(V0, V1, titles, plotTitle, showTitles=True):\n",
    "    plt.scatter(V0, V1)\n",
    "\n",
    "    fig = plt.gcf()\n",
    "    fig.set_size_inches(18.5, 10.5)\n",
    "\n",
    "    if (showTitles):\n",
    "        for title, x, y in zip(titles, V0, V1):\n",
    "            plt.annotate(\n",
    "                title,\n",
    "                xy=(x, y), xytext=(0, 20),\n",
    "                textcoords='offset points', ha='center', va='bottom',\n",
    "                bbox=dict(boxstyle='round,pad=0.5', fc='yellow', alpha=0.5),\n",
    "                arrowprops=dict(arrowstyle = '->', connectionstyle='arc3,rad=0'))\n",
    "\n",
    "    plt.show()"
   ]
  },
  {
   "cell_type": "code",
   "execution_count": null,
   "metadata": {
    "collapsed": true
   },
   "outputs": [],
   "source": [
    "#===============================================================================================\n",
    "# Visualize V for any ten movies of your choice from the MovieLens dataset.\n",
    "# Let's choose the first 10, because I'm lazy\n",
    "#===============================================================================================\n",
    "movieIndices = [\n",
    "    50,   # Star Wars\n",
    "    69,   # Forrest Gump\n",
    "    82,   # Jurassic Park\n",
    "    95,   # Aladdin\n",
    "    420,  # Alice in Wonderland\n",
    "    474,  # Dr. Strangelove\n",
    "    666,  # Blood for Dracula\n",
    "    780,  # Dumb and Dumber\n",
    "    1127, # The Truman Show\n",
    "    1360, # Sexual Life of the Belgians\n",
    "]\n",
    "\n",
    "V0 = []\n",
    "V1 = []\n",
    "titles = []\n",
    "for i in movieIndices:\n",
    "    V0.append(V_proj[0, i - 1])\n",
    "    V1.append(V_proj[1, i - 1])\n",
    "    titles.append(movie_ID[i])\n",
    "\n",
    "PlotMovies(V0, V1, titles, \"\")\n"
   ]
  },
  {
   "cell_type": "code",
   "execution_count": null,
   "metadata": {
    "collapsed": true
   },
   "outputs": [],
   "source": [
    "#===============================================================================================\n",
    "# Visualize V for the ten most popular movies (movies which have received the most ratings).\n",
    "#===============================================================================================\n",
    "top10 = getPopularMovies(movie_ratings, movie_ID)\n",
    "\n",
    "V0 = []\n",
    "V1 = []\n",
    "titles = []\n",
    "for i, _ in top10:\n",
    "    V0.append(V_proj[0, i - 1])\n",
    "    V1.append(V_proj[1, i - 1])\n",
    "    titles.append(movie_ID[i])\n",
    "    \n",
    "\n",
    "PlotMovies(V0, V1, titles, \"\")"
   ]
  },
  {
   "cell_type": "code",
   "execution_count": null,
   "metadata": {
    "collapsed": true
   },
   "outputs": [],
   "source": [
    "#===============================================================================================\n",
    "# Visualize V for the ten best movies (movies with the highest average ratings).\n",
    "#===============================================================================================\n",
    "best10 = getBestMovies(movie_ratings)\n",
    "\n",
    "V0 = []\n",
    "V1 = []\n",
    "titles = []\n",
    "for i in best10:\n",
    "    V0.append(V_proj[0, i - 1])\n",
    "    V1.append(V_proj[1, i - 1])\n",
    "    titles.append(movie_ID[i])\n",
    "    \n",
    "\n",
    "PlotMovies(V0, V1, titles, \"\")\n"
   ]
  },
  {
   "cell_type": "code",
   "execution_count": null,
   "metadata": {
    "collapsed": true
   },
   "outputs": [],
   "source": [
    "#===============================================================================================\n",
    "# Visualize V for ten movies from the Comedy, Romance, Horror genre you selected in Section 4, Basic Visualizations\n",
    "#===============================================================================================\n",
    "genreList = [5] # comedies\n",
    "comedies = getThreeGenres(movie_category, genreList)[0]\n",
    "\n",
    "genreList = [11] # horrors\n",
    "horrors = getThreeGenres(movie_category, genreList)[0]\n",
    "\n",
    "genreList = [15] # romance\n",
    "romances = getThreeGenres(movie_category, genreList)[0]\n",
    "\n",
    "\n",
    "\n",
    "V0 = []\n",
    "V1 = []\n",
    "titles = []\n",
    "for i in range(10):\n",
    "    idx = comedies[i]\n",
    "    V0.append(V_proj[0, idx - 1])\n",
    "    V1.append(V_proj[1, idx - 1])\n",
    "    titles.append(movie_ID[idx])\n",
    "    \n",
    "for i in range(10):\n",
    "    idx = horrors[i]\n",
    "    V0.append(V_proj[0, idx - 1])\n",
    "    V1.append(V_proj[1, idx - 1])\n",
    "    titles.append(movie_ID[idx])\n",
    "    \n",
    "for i in range(10):\n",
    "    idx = romances[i]\n",
    "    V0.append(V_proj[0, idx - 1])\n",
    "    V1.append(V_proj[1, idx - 1])\n",
    "    titles.append(movie_ID[idx])\n",
    "    \n",
    "\n",
    "PlotMovies(V0, V1, titles, \"\", showTitles=True)\n",
    "\n"
   ]
  },
  {
   "cell_type": "code",
   "execution_count": null,
   "metadata": {
    "collapsed": true
   },
   "outputs": [],
   "source": [
    "def sortMovieYear(movieList, movie_ID):\n",
    "    '''\n",
    "    Returns a dictionary of {year:[list of movies]}\n",
    "    '''\n",
    "    years = {}\n",
    "    for movie in movieList:\n",
    "        title = movie_ID[movie]\n",
    "        year = title.rsplit('(', 1)[1][:-1]\n",
    "        if year in years:\n",
    "            years[year].append(movie)\n",
    "        else:\n",
    "            years[year] = [movie]\n",
    "    return years"
   ]
  },
  {
   "cell_type": "code",
   "execution_count": null,
   "metadata": {
    "collapsed": true
   },
   "outputs": [],
   "source": [
    "def findAverage(movieList, V_proj):\n",
    "    num_movies = len(movieList)\n",
    "    V0 = 0\n",
    "    V1 = 0\n",
    "    for movie in movieList:\n",
    "        ind = movie - 1\n",
    "        V0 += V_proj[0, ind]\n",
    "        V1 += V_proj[1, ind]\n",
    "    return (V0 / num_movies, V1 / num_movies)"
   ]
  },
  {
   "cell_type": "code",
   "execution_count": null,
   "metadata": {
    "collapsed": true
   },
   "outputs": [],
   "source": [
    "#===============================================================================================\n",
    "# Visualize V for Horror movies across different years\n",
    "#===============================================================================================\n",
    "\n",
    "genreList = [11] # Horror\n",
    "horrors = getThreeGenres(movie_category, genreList)[0]\n",
    "\n",
    "sorted_years = sortMovieYear(horrors, movie_ID)\n",
    "\n",
    "V0 = []\n",
    "V1 = []\n",
    "titles = []\n",
    "for i in sorted_years.keys():\n",
    "    (v0, v1) = findAverage(sorted_years[i], V_proj)\n",
    "    V0.append(v0)\n",
    "    V1.append(v1)\n",
    "    titles.append(i)\n",
    "PlotMovies(V0, V1, titles, \"\", showTitles=True)"
   ]
  },
  {
   "cell_type": "code",
   "execution_count": null,
   "metadata": {
    "collapsed": true
   },
   "outputs": [],
   "source": []
  },
  {
   "cell_type": "code",
   "execution_count": null,
   "metadata": {
    "collapsed": true
   },
   "outputs": [],
   "source": []
  }
 ],
 "metadata": {
  "kernelspec": {
   "display_name": "Python 3",
   "language": "python",
   "name": "python3"
  },
  "language_info": {
   "codemirror_mode": {
    "name": "ipython",
    "version": 3
   },
   "file_extension": ".py",
   "mimetype": "text/x-python",
   "name": "python",
   "nbconvert_exporter": "python",
   "pygments_lexer": "ipython3",
   "version": "3.6.3"
  }
 },
 "nbformat": 4,
 "nbformat_minor": 2
}
